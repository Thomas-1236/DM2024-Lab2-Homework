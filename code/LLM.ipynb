{
 "cells": [
  {
   "cell_type": "code",
   "execution_count": null,
   "id": "1a53d72e-f525-49b2-8371-6c2f6ae5b421",
   "metadata": {},
   "outputs": [],
   "source": [
    "import pandas as pd\n",
    "import json\n",
    "%matplotlib inline\n",
    "import numpy as np\n",
    "import matplotlib.pyplot as plt\n",
    "from sklearn.feature_extraction.text import CountVectorizer\n",
    "import nltk\n",
    "from sklearn.tree import DecisionTreeClassifier\n",
    "#import keras\n",
    "from sklearn.preprocessing import LabelEncoder\n",
    "from sklearn.ensemble import RandomForestClassifier\n",
    "from sklearn.svm import SVC\n",
    "from sklearn.linear_model import LogisticRegression\n",
    "from sklearn.feature_extraction.text import TfidfVectorizer\n",
    "import re\n",
    "import keras\n",
    "import tensorflow as tf\n",
    "from tensorflow.keras.models import Sequential\n",
    "from tensorflow.keras.layers import Dense, Dropout"
   ]
  },
  {
   "cell_type": "code",
   "execution_count": null,
   "id": "9f8547e3-2225-4332-8409-a3dfb6bdb0c1",
   "metadata": {},
   "outputs": [],
   "source": [
    "# 加载 JSON 数据\n",
    "tweets_data = []\n",
    "with open('tweets_DM.json', 'r') as file:\n",
    "    for line in file:\n",
    "        tweet = json.loads(line)\n",
    "        # 提取嵌套字段 _source.tweet\n",
    "        tweet_data = tweet.get('_source', {}).get('tweet', {})\n",
    "        tweets_data.append(tweet_data)\n",
    "\n",
    "# 转换为 DataFrame\n",
    "tweets_df = pd.DataFrame(tweets_data)\n",
    "\n",
    "# 查看结果\n",
    "print(tweets_df.head())\n"
   ]
  },
  {
   "cell_type": "code",
   "execution_count": null,
   "id": "d4647c57-0f40-4d44-8726-483e6e703071",
   "metadata": {},
   "outputs": [],
   "source": [
    "# 加载 CSV 文件\n",
    "emotion = pd.read_csv('emotion.csv')\n",
    "data_identification = pd.read_csv('data_identification.csv')\n",
    "\n",
    "# 合并数据：推文内容与情绪标签\n",
    "tweets_with_emotion = pd.merge(tweets_df, emotion, on='tweet_id', how='left')\n",
    "\n",
    "# 合并数据：训练/测试集标识\n",
    "complete_data = pd.merge(tweets_with_emotion, data_identification, on='tweet_id', how='left')\n",
    "\n",
    "# 查看结果\n",
    "print(complete_data.head())\n"
   ]
  },
  {
   "cell_type": "code",
   "execution_count": null,
   "id": "b2bea545-c682-4dbe-92a8-cb48f94a1946",
   "metadata": {},
   "outputs": [],
   "source": [
    "\n",
    "\n",
    "# 清理推文文本\n",
    "def clean_text(text):\n",
    "    text = re.sub(r\"http\\S+\", \"\", text)  # 去除URL\n",
    "    text = re.sub(r\"[^\\w\\s#@]\", \"\", text)  # 保留文字、# 和 @\n",
    "    return text.strip()\n",
    "\n",
    "complete_data['text'] = complete_data['text'].apply(clean_text)\n",
    "complete_data=complete_data.drop(['hashtags'],axis=1)"
   ]
  },
  {
   "cell_type": "code",
   "execution_count": null,
   "id": "ebd0c036-b960-40d5-b297-46395837311b",
   "metadata": {},
   "outputs": [],
   "source": [
    "complete_data"
   ]
  },
  {
   "cell_type": "code",
   "execution_count": null,
   "id": "42c5a9b8-f8e6-4a45-8b6d-c1887a8f8f9d",
   "metadata": {},
   "outputs": [],
   "source": [
    "train_df = complete_data[complete_data['identification'] == 'train']\n",
    "test_df = complete_data[complete_data['identification'] == 'test']\n",
    "print(train_df)\n",
    "print(test_df)"
   ]
  },
  {
   "cell_type": "code",
   "execution_count": null,
   "id": "c711f657-74db-457d-9bed-a4492d7886db",
   "metadata": {},
   "outputs": [],
   "source": [
    "# the histogram of the data\n",
    "labels = train_df['emotion'].unique()\n",
    "post_total = len(train_df)\n",
    "df1 = train_df.groupby(['emotion']).count()['text']\n",
    "df1 = df1.apply(lambda x: round(x*100/post_total,3))\n",
    "#plot\n",
    "fig, ax = plt.subplots(figsize=(10,3))\n",
    "plt.bar(df1.index,df1.values)\n",
    "#arrange\n",
    "plt.ylabel('% of instances')\n",
    "plt.xlabel('Emotion')\n",
    "plt.title('Emotion distribution')\n",
    "plt.grid(True)\n",
    "plt.show()\n"
   ]
  },
  {
   "cell_type": "code",
   "execution_count": null,
   "id": "0b9f6d7b-c00c-43b5-ac0b-27e716f5f205",
   "metadata": {},
   "outputs": [],
   "source": [
    "# build analyzers (bag-of-words)\n",
    "BOW_500 = CountVectorizer(max_features=3000, tokenizer=nltk.word_tokenize) \n",
    "# apply analyzer to training data\n",
    "BOW_500.fit(train_df['text'])\n",
    "train_data_BOW_features_500 = BOW_500.transform(train_df['text'])\n",
    "## check dimension\n",
    "train_data_BOW_features_500.shape"
   ]
  },
  {
   "cell_type": "code",
   "execution_count": null,
   "id": "74fa4464-06e6-4abd-ab92-c71283a537e0",
   "metadata": {},
   "outputs": [],
   "source": [
    "# for a classificaiton problem, you need to provide both training & testing data\n",
    "X_train = BOW_500.transform(train_df['text'])\n",
    "y_train = train_df['emotion']\n",
    "X_test = BOW_500.transform(test_df['text'])\n",
    "y_test = test_df['emotion']\n",
    " ## take a look at data dimension is a good habit  :)\n",
    "print('X_train.shape: ', X_train.shape)\n",
    "print('y_train.shape: ', y_train.shape)\n",
    "print('X_test.shape: ', X_test.shape)\n",
    "print('y_test.shape: ', y_test.shape)"
   ]
  },
  {
   "cell_type": "code",
   "execution_count": null,
   "id": "c1280245-de4e-4f22-acd7-7202d50babcb",
   "metadata": {},
   "outputs": [],
   "source": [
    "## deal with label (string -> one-hot)\n",
    "\n",
    "from sklearn.preprocessing import LabelEncoder\n",
    "\n",
    "label_encoder = LabelEncoder()\n",
    "label_encoder.fit(y_train)\n",
    "print('check label: ', label_encoder.classes_)\n",
    "print('\\n## Before convert')\n",
    "print('y_train[0:4]:\\n', y_train[0:4])\n",
    "print('\\ny_train.shape: ', y_train.shape)\n",
    "\n",
    "def label_encode(le, labels):\n",
    "    enc = le.transform(labels)\n",
    "    return keras.utils.to_categorical(enc)\n",
    "\n",
    "def label_decode(le, one_hot_label):\n",
    "    dec = np.argmax(one_hot_label, axis=1)\n",
    "    return le.inverse_transform(dec)\n",
    "\n",
    "y_train = label_encode(label_encoder, y_train)\n",
    "\n",
    "\n",
    "print('\\n\\n## After convert')\n",
    "print('y_train[0:4]:\\n', y_train[0:4])\n",
    "print('\\ny_train.shape: ', y_train.shape)\n",
    "\n"
   ]
  },
  {
   "cell_type": "code",
   "execution_count": null,
   "id": "e734166d-72e4-44ee-92af-25db522d3fce",
   "metadata": {},
   "outputs": [],
   "source": [
    "from sklearn.model_selection import train_test_split\n",
    "\n",
    "# 假设 X 是特征矩阵，y 是目标变量\n",
    "# 数据集切分为训练集和验证集，验证集比例为 20%\n",
    "X_train, X_val, y_train, y_val = train_test_split(X_train, y_train , test_size=0.2, random_state=42)\n",
    "\n",
    "# 查看数据集大小\n",
    "print(\"训练集特征大小:\", X_train.shape)\n",
    "print(\"验证集特征大小:\", X_val.shape)\n",
    "print(\"训练集目标大小:\", y_train.shape)\n",
    "print(\"验证集目标大小:\", y_val.shape)"
   ]
  },
  {
   "cell_type": "code",
   "execution_count": null,
   "id": "2bab2360-9853-4885-882f-b1fa3474755f",
   "metadata": {},
   "outputs": [],
   "source": [
    "# 假设 X_train 是特征矩阵，y_train 是 one-hot 编码的标签\n",
    "input_dim = X_train.shape[1]  # 输入特征数量\n",
    "output_dim = y_train.shape[1]  # 输出类别数量\n",
    "\n",
    "model = Sequential([\n",
    "    Dense(326, input_dim=input_dim, activation='relu'),  # 第一隐藏层\n",
    "    Dropout(0.3),                                       # 防止过拟合\n",
    "    Dense(128, activation='relu'),                       # 第二隐藏层\n",
    "    Dropout(0.3),\n",
    "    Dense(64, input_dim=input_dim, activation='relu'),\n",
    "    Dropout(0.3),\n",
    "    Dense(output_dim, activation='softmax')             # 输出层\n",
    "])\n",
    "\n",
    "# 编译模型\n",
    "model.compile(optimizer='adam', loss='categorical_crossentropy', metrics=['accuracy'])\n",
    "\n",
    "# 训练模型\n",
    "history = model.fit(\n",
    "    X_train, y_train,\n",
    "    validation_data=(X_val, y_val),  # 如果有验证集\n",
    "    epochs=30,                      # 训练轮数\n",
    "    batch_size=32,                  # 每批样本数量\n",
    "    verbose=1                       # 显示训练过程\n",
    ")"
   ]
  },
  {
   "cell_type": "code",
   "execution_count": null,
   "id": "4e82fda3-6ef0-41fc-a4c7-be9fd50bb1f6",
   "metadata": {},
   "outputs": [],
   "source": [
    "# 预测测试集\n",
    "predictions = model.predict(X_test)\n",
    "\n",
    "# 获取预测的类别索引\n",
    "predicted_indices = predictions.argmax(axis=1)\n",
    "\n",
    "# 将类别索引转换回原始类别名称\n",
    "predicted_labels = label_encoder.inverse_transform(predicted_indices)\n",
    "\n",
    "# 查看部分结果\n",
    "print(\"Predicted Labels:\", predicted_labels[:10])"
   ]
  },
  {
   "cell_type": "code",
   "execution_count": null,
   "id": "9bcfb292-2983-44d0-b304-9b9c05e1b18e",
   "metadata": {},
   "outputs": [],
   "source": [
    "test_ids=test_df['tweet_id']\n",
    "fin=pd.DataFrame({\n",
    "    'id':test_ids,\n",
    "    'emotion':predicted_labels\n",
    "})\n",
    "print(fin.head())\n",
    "fin.to_csv('NN.csv',index=False)"
   ]
  },
  {
   "cell_type": "code",
   "execution_count": null,
   "id": "7640e8f3-db53-46b1-9c95-18d697d5b132",
   "metadata": {},
   "outputs": [],
   "source": []
  }
 ],
 "metadata": {
  "kernelspec": {
   "display_name": "Python 3 (ipykernel)",
   "language": "python",
   "name": "python3"
  },
  "language_info": {
   "codemirror_mode": {
    "name": "ipython",
    "version": 3
   },
   "file_extension": ".py",
   "mimetype": "text/x-python",
   "name": "python",
   "nbconvert_exporter": "python",
   "pygments_lexer": "ipython3",
   "version": "3.11.7"
  }
 },
 "nbformat": 4,
 "nbformat_minor": 5
}
